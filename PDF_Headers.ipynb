{
  "nbformat": 4,
  "nbformat_minor": 0,
  "metadata": {
    "colab": {
      "provenance": [],
      "mount_file_id": "1B9aWPbUdBCFUlQWcw5n00QoQAHQscBNa",
      "authorship_tag": "ABX9TyM+8OCD6A56SRHuxxz8Z9Is",
      "include_colab_link": true
    },
    "kernelspec": {
      "name": "python3",
      "display_name": "Python 3"
    },
    "language_info": {
      "name": "python"
    }
  },
  "cells": [
    {
      "cell_type": "markdown",
      "metadata": {
        "id": "view-in-github",
        "colab_type": "text"
      },
      "source": [
        "<a href=\"https://colab.research.google.com/github/phpaivamotta/pdf-headers/blob/main/PDF_Headers.ipynb\" target=\"_parent\"><img src=\"https://colab.research.google.com/assets/colab-badge.svg\" alt=\"Open In Colab\"/></a>"
      ]
    },
    {
      "cell_type": "code",
      "execution_count": null,
      "metadata": {
        "id": "10FvkYSiW4AR"
      },
      "outputs": [],
      "source": [
        "!pip install PyMuPDF\n",
        "!pip install roman"
      ]
    },
    {
      "cell_type": "code",
      "source": [
        "import fitz\n",
        "import roman"
      ],
      "metadata": {
        "id": "NEs3qDgCcKAc"
      },
      "execution_count": null,
      "outputs": []
    },
    {
      "cell_type": "code",
      "source": [
        "from google.colab import drive\n",
        "drive.mount('/content/drive')"
      ],
      "metadata": {
        "id": "EnuSAcSoXBSJ"
      },
      "execution_count": null,
      "outputs": []
    },
    {
      "cell_type": "code",
      "source": [
        "font = fitz.Font(fontname=\"BA\", fontfile=\"/content/drive/MyDrive/PDF Headers/Book Antiqua Font Files/BKANT.TTF\")"
      ],
      "metadata": {
        "id": "1Y0AQbsgHlX7"
      },
      "execution_count": null,
      "outputs": []
    },
    {
      "cell_type": "markdown",
      "source": [
        "## **Inputs**"
      ],
      "metadata": {
        "id": "wDC9X2m0hngs"
      }
    },
    {
      "cell_type": "code",
      "source": [
        "# Update these paths based on where the files are located in your Google Drive\n",
        "input_pdf = '/content/drive/MyDrive/PDF Headers/PDF wo Headers/test MAS-233266-FPC-1016-501_R1 REPORT ONLY.pdf'\n",
        "output_pdf = '/content/drive/MyDrive/PDF Headers/PDF w Headers/MAS-233266-FPC-1016-501_R1 REPORT ONLY - w Headers.pdf'\n",
        "\n",
        "# Header text\n",
        "company_name = 'Formosa Plastics'\n",
        "project_name = 'IEM C-602A Column and Caustic Piping'\n",
        "document_description = 'Detailed Pipe Stess Analysis, Revision 1'\n",
        "date = 'March 21, 2024'\n",
        "maverick = 'Maverick Applied Science, Inc.'\n",
        "document_name = 'MAS-233266-FPC-1016-501'\n",
        "attachment_name = 'Attachment A'\n",
        "footer_attachment = 'A - '\n",
        "\n",
        "# Margins (margins seen below are in REMs, not inches)\n",
        "LEFT_MARGIN = 61\n",
        "TOP_MARGIN_1 = 45\n",
        "TOP_MARGIN_2 = 60\n",
        "TOP_MARGIN_3 = 75\n",
        "BOTTOM_MARGIN = 35\n",
        "\n",
        "# Ranges\n",
        "# Main header (on top-right and left of page)\n",
        "main_header_start = 2\n",
        "main_header_finish = 30\n",
        "# Center header (on top-center of page)\n",
        "center_header_start = 5\n",
        "center_header_finish = 30\n",
        "# Footer report roman\n",
        "footer_roman_start = 2\n",
        "footer_roman_finish = 5\n",
        "# Footer report normal\n",
        "footer_start = 6\n",
        "footer_finish = 25\n",
        "# Footer attachment\n",
        "footer_attachment_start = 26\n",
        "footer_attachment_finish = 30\n",
        "\n",
        "# Create ranges\n",
        "main_header_range = range(main_header_start, main_header_finish + 1)\n",
        "center_header_range = range(center_header_start, center_header_finish + 1)\n",
        "footer_roman_range = range(footer_roman_start, footer_roman_finish + 1)\n",
        "footer_range = range(footer_start, footer_finish + 1)\n",
        "footer_attachment_range = range(footer_attachment_start, footer_attachment_finish + 1)"
      ],
      "metadata": {
        "id": "eyfTK1rIXMiV"
      },
      "execution_count": null,
      "outputs": []
    },
    {
      "cell_type": "code",
      "source": [
        "def add_header_to_pdf(\n",
        "    input_pdf, output_pdf, company_name, project_name, document_description, date, maverick, document_name, attachment_name, footer_attachment,\n",
        "    main_header_range, center_header_range, footer_range, footer_roman_range, footer_attachment_range\n",
        "    ):\n",
        "\n",
        "    # Open input PDF file\n",
        "    doc = fitz.open(input_pdf)\n",
        "\n",
        "    # Get width and height of first page, which should be the same as all other pages\n",
        "    page_width = doc[0].rect.width\n",
        "    page_height = doc[0].rect.height\n",
        "\n",
        "    # Get length of text to be written on right side of the page\n",
        "    date_length = font.text_length(date, fontsize=12)\n",
        "    maverick_length = font.text_length(maverick, fontsize=12)\n",
        "    doc_name_length = font.text_length(document_name, fontsize=12)\n",
        "\n",
        "    # Get length of attachment text to be written on center of page\n",
        "    attachment_name_length = font.text_length(attachment_name, fontsize=12)\n",
        "\n",
        "    for i, page in enumerate(doc, start=1):\n",
        "        # Load Book Antiqua font file\n",
        "        page.insert_font(fontfile=\"/content/drive/MyDrive/PDF Headers/Book Antiqua Font Files/BKANT.TTF\", fontname=\"BA\")\n",
        "\n",
        "        # Write headers to page\n",
        "        if i in main_header_range:\n",
        "          # Headers on left of page\n",
        "          page.insert_text((LEFT_MARGIN, TOP_MARGIN_1), company_name, fontsize=12, fontname=\"BA\", color=(0,0,0))\n",
        "          page.insert_text((LEFT_MARGIN, TOP_MARGIN_2), project_name, fontsize=12, fontname=\"BA\", color=(0,0,0))\n",
        "          page.insert_text((LEFT_MARGIN, TOP_MARGIN_3), document_description, fontsize=12, fontname=\"BA\", color=(0,0,0))\n",
        "          # Headers on right of page\n",
        "          page.insert_text((page_width - (LEFT_MARGIN + date_length), TOP_MARGIN_1), date, fontsize=12, fontname=\"BA\", color=(0,0,0))\n",
        "          page.insert_text((page_width - (LEFT_MARGIN + maverick_length), TOP_MARGIN_2), maverick, fontsize=12, fontname=\"BA\", color=(0,0,0))\n",
        "          page.insert_text((page_width - (LEFT_MARGIN + doc_name_length), TOP_MARGIN_3), document_name, fontsize=12, fontname=\"BA\", color=(0,0,0))\n",
        "\n",
        "        # Headers/footers in center of page\n",
        "        # Attachment name header\n",
        "        if i in center_header_range:\n",
        "          page.insert_text(((page_width/2) - (attachment_name_length/2), TOP_MARGIN_1), attachment_name, fontsize=12, fontname=\"BA\", color=(0,0,0))\n",
        "        # Report roman numeral footer\n",
        "        if i in footer_roman_range:\n",
        "          roman_num = roman.toRoman((i + 1) - footer_roman_start).lower()\n",
        "          footer_roman_length = font.text_length(roman_num, fontsize=12)\n",
        "          page.insert_text(((page_width/2) - (footer_roman_length/2), (page_height - BOTTOM_MARGIN)), roman_num, fontsize=12, fontname=\"BA\", color=(0,0,0))\n",
        "        # Report footer\n",
        "        if i in footer_range:\n",
        "          page_num = str((i + 1) - footer_start)\n",
        "          footer_length = font.text_length(page_num, fontsize=12)\n",
        "          page.insert_text(((page_width/2) - (footer_length/2), (page_height - BOTTOM_MARGIN)), page_num, fontsize=12, fontname=\"BA\", color=(0,0,0))\n",
        "        # Footer attachment range\n",
        "        if i in footer_attachment_range:\n",
        "          attachment_num = str((i + 1) - footer_attachment_start)\n",
        "          footer_attachment_length = font.text_length((footer_attachment + attachment_num), fontsize=12)\n",
        "          page.insert_text(((page_width/2) - (footer_length/2), (page_height - BOTTOM_MARGIN)), f'{footer_attachment}{(i + 1) - footer_attachment_start}', fontsize=12, fontname=\"BA\", color=(0,0,0))\n",
        "\n",
        "    doc.save(output_pdf)\n",
        "    print(f\"Header added. File saved as '{output_pdf}'\")"
      ],
      "metadata": {
        "id": "6hMkfRn1lZLQ"
      },
      "execution_count": null,
      "outputs": []
    },
    {
      "cell_type": "code",
      "source": [
        "add_header_to_pdf(\n",
        "    input_pdf, output_pdf, company_name, project_name, document_description,\n",
        "    date, maverick, document_name, attachment_name, footer_attachment, main_header_range,\n",
        "    center_header_range, footer_range, footer_roman_range, footer_attachment_range\n",
        "    )"
      ],
      "metadata": {
        "id": "qVMosTE9GeIp"
      },
      "execution_count": null,
      "outputs": []
    }
  ]
}