{
  "nbformat": 4,
  "nbformat_minor": 0,
  "metadata": {
    "colab": {
      "provenance": [],
      "mount_file_id": "1B9aWPbUdBCFUlQWcw5n00QoQAHQscBNa",
      "authorship_tag": "ABX9TyOdBWMZ87QKyNqBfXjN1Nhy",
      "include_colab_link": true
    },
    "kernelspec": {
      "name": "python3",
      "display_name": "Python 3"
    },
    "language_info": {
      "name": "python"
    }
  },
  "cells": [
    {
      "cell_type": "markdown",
      "metadata": {
        "id": "view-in-github",
        "colab_type": "text"
      },
      "source": [
        "<a href=\"https://colab.research.google.com/github/phpaivamotta/pdf-headers/blob/main/PDF_Headers.ipynb\" target=\"_parent\"><img src=\"https://colab.research.google.com/assets/colab-badge.svg\" alt=\"Open In Colab\"/></a>"
      ]
    },
    {
      "cell_type": "markdown",
      "source": [
        "# Environment Set-Up"
      ],
      "metadata": {
        "id": "1nDOyVmo6TeW"
      }
    },
    {
      "cell_type": "code",
      "execution_count": 1,
      "metadata": {
        "id": "10FvkYSiW4AR",
        "colab": {
          "base_uri": "https://localhost:8080/"
        },
        "outputId": "998dd87b-a019-4c52-aa47-e62fd607e062"
      },
      "outputs": [
        {
          "output_type": "stream",
          "name": "stdout",
          "text": [
            "Requirement already satisfied: PyMuPDF in /usr/local/lib/python3.10/dist-packages (1.24.5)\n",
            "Requirement already satisfied: PyMuPDFb==1.24.3 in /usr/local/lib/python3.10/dist-packages (from PyMuPDF) (1.24.3)\n",
            "Requirement already satisfied: roman in /usr/local/lib/python3.10/dist-packages (4.2)\n"
          ]
        }
      ],
      "source": [
        "!pip install PyMuPDF # Library for working with PDFs\n",
        "!pip install roman   # Library for converting numbers to Roman numerals"
      ]
    },
    {
      "cell_type": "code",
      "source": [
        "import fitz\n",
        "import roman\n",
        "from google.colab import drive"
      ],
      "metadata": {
        "id": "NEs3qDgCcKAc"
      },
      "execution_count": 2,
      "outputs": []
    },
    {
      "cell_type": "code",
      "source": [
        "drive.mount('/content/drive')"
      ],
      "metadata": {
        "id": "EnuSAcSoXBSJ",
        "colab": {
          "base_uri": "https://localhost:8080/"
        },
        "outputId": "804f74e3-cdc4-415d-c222-e1226cbb4ddf"
      },
      "execution_count": 3,
      "outputs": [
        {
          "output_type": "stream",
          "name": "stdout",
          "text": [
            "Drive already mounted at /content/drive; to attempt to forcibly remount, call drive.mount(\"/content/drive\", force_remount=True).\n"
          ]
        }
      ]
    },
    {
      "cell_type": "markdown",
      "source": [
        "# Inputs"
      ],
      "metadata": {
        "id": "Agli9N7S63A8"
      }
    },
    {
      "cell_type": "code",
      "source": [
        "# Headers for all documents\n",
        "company_name = \"Formosa Plastics\"\n",
        "project_name = \"IEM C-602A Column and Caustic Piping\"\n",
        "document_description = \"Detailed Pipe Stess Analysis, Revision 1\"\n",
        "date = \"June 2, 2024\"\n",
        "maverick = \"Maverick Applied Science, Inc.\"\n",
        "document_name = \"MAS-233266-FPC-1016-501\"\n",
        "\n",
        "# Variables for report\n",
        "footer_roman_start = 2 # Starting roman numeral page will always be 2, so this might be redundant\n",
        "footer_roman_finish = 5\n",
        "file_path_original_report = \"/content/drive/MyDrive/PDF Headers/PDF wo Headers/TEST MAS-233266-FPC-1016-501_R1 REPORT ONLY.pdf\"\n",
        "file_path_modified_report = \"/content/drive/MyDrive/PDF Headers/PDF w Headers/TEST MAS-233266-FPC-1016-501_R1 REPORT ONLY.pdf\"\n",
        "\n",
        "# Variable for attachments center header\n",
        "attachment_center_header_top_margin_decrease = 0 # This is to be used when the center header is interfering with the other header text. Default should be zero (0). Any positive value added will move center header up.\n",
        "\n",
        "# Variables for attachment A\n",
        "attachment_letter_a = \"A\"\n",
        "has_cover_page_a = False\n",
        "file_path_original_attachment_a = \"/content/drive/MyDrive/PDF Headers/PDF wo Headers/TEST 3266 Attachment A.pdf\"\n",
        "file_path_modified_attachment_a = \"/content/drive/MyDrive/PDF Headers/PDF w Headers/TEST 3266 Attachment A.pdf\"\n",
        "\n",
        "# Variables for attachment B\n",
        "attachment_letter_b = \"B\"\n",
        "has_cover_page_b = False\n",
        "file_path_original_attachment_b = \"/content/drive/MyDrive/PDF Headers/PDF wo Headers/TEST 3266 Attachment B.pdf\"\n",
        "file_path_modified_attachment_b = \"/content/drive/MyDrive/PDF Headers/PDF w Headers/TEST 3266 Attachment B.pdf\"\n",
        "\n",
        "# Variables for attachment D\n",
        "attachment_letter_d = \"D\"\n",
        "has_cover_page_d = True\n",
        "file_path_original_attachment_d = \"/content/drive/MyDrive/PDF Headers/PDF wo Headers/MAS-233266-FPC-1016-002-Attachment_D.pdf\"\n",
        "file_path_modified_attachment_d = \"/content/drive/MyDrive/PDF Headers/PDF w Headers/MAS-233266-FPC-1016-002-Attachment_D.pdf\"\n",
        "\n",
        "# Variables for attachment E\n",
        "attachment_letter_e = \"E\"\n",
        "has_cover_page_e = True\n",
        "file_path_original_attachment_e = \"/content/drive/MyDrive/PDF Headers/PDF wo Headers/MAS-233266-FPC-1016-003-Attachment_E.pdf\"\n",
        "file_path_modified_attachment_e = \"/content/drive/MyDrive/PDF Headers/PDF w Headers/MAS-233266-FPC-1016-003-Attachment_E.pdf\"\n",
        "\n",
        "# Variables for attachment F\n",
        "attachment_letter_f = \"F\"\n",
        "has_cover_page_f = True\n",
        "file_path_original_attachment_f = \"/content/drive/MyDrive/PDF Headers/PDF wo Headers/MAS-233266-FPC-1016-004-Attachment_F.pdf\"\n",
        "file_path_modified_attachment_f = \"/content/drive/MyDrive/PDF Headers/PDF w Headers/MAS-233266-FPC-1016-004-Attachment_F.pdf\"\n",
        "\n",
        "# Variables for attachment G\n",
        "attachment_letter_g = \"G\"\n",
        "has_cover_page_g = True\n",
        "file_path_original_attachment_g = \"/content/drive/MyDrive/PDF Headers/PDF wo Headers/MAS-233266-FPC-1016-005-Attachment_G.pdf\"\n",
        "file_path_modified_attachment_g = \"/content/drive/MyDrive/PDF Headers/PDF w Headers/MAS-233266-FPC-1016-005-Attachment_G.pdf\""
      ],
      "metadata": {
        "id": "gstpneHRRlhF"
      },
      "execution_count": 4,
      "outputs": []
    },
    {
      "cell_type": "markdown",
      "source": [
        "# Document Class Definition\n",
        "\n",
        "This is the base class the Report and Attachment classes will inherit from."
      ],
      "metadata": {
        "id": "vyHEguRD7CGB"
      }
    },
    {
      "cell_type": "code",
      "source": [
        "class Document:\n",
        "\n",
        "    FONT_SIZE = 12\n",
        "    FONT_NAME = \"BA\" # Stands for Book Antiqua, which is the default header font used by MAS\n",
        "    FONT_FILE = \"/content/drive/MyDrive/PDF Headers/Book Antiqua Font Files/BKANT.TTF\" # Font file for Book Antiqua\n",
        "    FONT_COLOR = (0,0,0) # (0,0,0) is the color black\n",
        "\n",
        "    # Default margins (margins seen below are in REMs, not inches)\n",
        "    LEFT_MARGIN = 61\n",
        "    TOP_MARGIN_1 = 45\n",
        "    TOP_MARGIN_2 = 60\n",
        "    TOP_MARGIN_3 = 75\n",
        "    BOTTOM_MARGIN = 35\n",
        "\n",
        "    def __init__(self, company_name, project_name, document_description, date, maverick, document_name, file_path_original, file_path_modified):\n",
        "        self.company_name = company_name\n",
        "        self.project_name = project_name\n",
        "        self.document_description = document_description\n",
        "        self.date = date\n",
        "        self.maverick = maverick\n",
        "        self.document_name = document_name\n",
        "        self.file_path_original = file_path_original\n",
        "        self.file_path_modified = file_path_modified\n",
        "        # Open document (requires fitz module)\n",
        "        self.doc = fitz.open(self.file_path_original)\n",
        "        # Initialize font\n",
        "        self.font = fitz.Font(fontname=self.FONT_NAME, fontfile=self.FONT_FILE)\n",
        "\n",
        "    @classmethod\n",
        "    def set_margings(cls, left_margin, top_margin_1, top_margin_2, top_margin_3, bottom_margin):\n",
        "        cls.LEFT_MARGIN = left_margin\n",
        "        cls.TOP_MARGIN_1 = top_margin_1\n",
        "        cls.TOP_MARGIN_2 = top_margin_2\n",
        "        cls.TOP_MARGIN_3 = top_margin_3\n",
        "        cls.BOTTOM_MARGIN = bottom_margin\n",
        "\n",
        "    @classmethod\n",
        "    def set_font_size(cls, font_size):\n",
        "        cls.FONT_SIZE = font_size\n",
        "\n",
        "    @classmethod\n",
        "    def set_font_name(cls, font_name):\n",
        "        cls.FONT_NAME = font_name\n",
        "\n",
        "    @classmethod\n",
        "    def set_font_file(cls, font_file):\n",
        "        cls.FONT_FILE = font_file\n",
        "\n",
        "    def get_page_width(self):\n",
        "        return self.doc[0].rect.width\n",
        "\n",
        "    def get_page_height(self):\n",
        "        return self.doc[0].rect.height"
      ],
      "metadata": {
        "id": "rbYzH7XWIK7M"
      },
      "execution_count": 5,
      "outputs": []
    },
    {
      "cell_type": "markdown",
      "source": [
        "# Report Class Definition"
      ],
      "metadata": {
        "id": "t1FuJbIl7IOj"
      }
    },
    {
      "cell_type": "code",
      "source": [
        "class Report(Document):\n",
        "\n",
        "    def __init__(self, company_name, project_name, document_description, date, maverick, document_name, footer_roman_start, footer_roman_finish, file_path_original, file_path_modified):\n",
        "        super().__init__(company_name, project_name, document_description, date, maverick, document_name, file_path_original, file_path_modified)\n",
        "        self.footer_roman_start = footer_roman_start\n",
        "        self.footer_roman_finish = footer_roman_finish\n",
        "\n",
        "    def footer_roman_range(self):\n",
        "        return range(self.footer_roman_start, self.footer_roman_finish + 1)\n",
        "\n",
        "    def footer_normal_range(self):\n",
        "        return range(self.footer_roman_finish + 1, self.doc.page_count + 1)\n",
        "\n",
        "    def header_range(self):\n",
        "        return range(self.footer_roman_start, self.doc.page_count + 1)\n",
        "\n",
        "    def save_pdf(self):\n",
        "        self.doc.save(self.file_path_modified)\n",
        "        print(f\"Header added. File saved as '{self.file_path_modified}'\")\n",
        "\n",
        "    def add_headers_and_footers(self):\n",
        "        # Get width and height of first page, which should be the same as all other pages\n",
        "        page_width = self.get_page_width()\n",
        "        page_height = self.get_page_height()\n",
        "\n",
        "        # Get length of text to be written on right side of the page\n",
        "        date_length = self.font.text_length(self.date, fontsize=Document.FONT_SIZE)\n",
        "        maverick_length = self.font.text_length(self.maverick, fontsize=Document.FONT_SIZE)\n",
        "        doc_name_length = self.font.text_length(self.document_name, fontsize=Document.FONT_SIZE)\n",
        "\n",
        "        # Loop through document pages and add headers\n",
        "        for i, page in enumerate(self.doc, start=1):\n",
        "            # Load Book Antiqua font file\n",
        "            page.insert_font(fontfile=Document.FONT_FILE, fontname=Document.FONT_NAME)\n",
        "\n",
        "            # Write headers to page\n",
        "            if i in self.header_range():\n",
        "                # Headers on left of page\n",
        "                page.insert_text((self.LEFT_MARGIN, self.TOP_MARGIN_1), self.company_name, fontsize=Document.FONT_SIZE, fontname=Document.FONT_NAME, color=Document.FONT_COLOR)\n",
        "                page.insert_text((self.LEFT_MARGIN, self.TOP_MARGIN_2), self.project_name, fontsize=Document.FONT_SIZE, fontname=Document.FONT_NAME, color=Document.FONT_COLOR)\n",
        "                page.insert_text((self.LEFT_MARGIN, self.TOP_MARGIN_3), self.document_description, fontsize=Document.FONT_SIZE, fontname=Document.FONT_NAME, color=Document.FONT_COLOR)\n",
        "                # Headers on right of page\n",
        "                page.insert_text((page_width - (self.LEFT_MARGIN + date_length), self.TOP_MARGIN_1), self.date, fontsize=Document.FONT_SIZE, fontname=Document.FONT_NAME, color=Document.FONT_COLOR)\n",
        "                page.insert_text((page_width - (self.LEFT_MARGIN + maverick_length), self.TOP_MARGIN_2), self.maverick, fontsize=Document.FONT_SIZE, fontname=Document.FONT_NAME, color=Document.FONT_COLOR)\n",
        "                page.insert_text((page_width - (self.LEFT_MARGIN + doc_name_length), self.TOP_MARGIN_3), self.document_name, fontsize=Document.FONT_SIZE, fontname=Document.FONT_NAME, color=Document.FONT_COLOR)\n",
        "\n",
        "            # Report roman numeral footer\n",
        "            if i in self.footer_roman_range():\n",
        "                roman_num = roman.toRoman((i + 1) - self.footer_roman_start).lower()\n",
        "                footer_roman_length = self.font.text_length(roman_num, fontsize=Document.FONT_SIZE)\n",
        "                page.insert_text(((page_width/2) - (footer_roman_length/2), (page_height - self.BOTTOM_MARGIN)), roman_num, fontsize=Document.FONT_SIZE, fontname=Document.FONT_NAME, color=Document.FONT_COLOR)\n",
        "\n",
        "            # Report footer\n",
        "            if i in self.footer_normal_range():\n",
        "                page_num = str((i + 1) - self.footer_normal_range()[0])\n",
        "                footer_length = self.font.text_length(page_num, fontsize=Document.FONT_SIZE)\n",
        "                page.insert_text(((page_width/2) - (footer_length/2), (page_height - self.BOTTOM_MARGIN)), page_num, fontsize=Document.FONT_SIZE, fontname=Document.FONT_NAME, color=Document.FONT_COLOR)"
      ],
      "metadata": {
        "id": "RORRAfFrPNM-"
      },
      "execution_count": 6,
      "outputs": []
    },
    {
      "cell_type": "markdown",
      "source": [
        "# Attachment Class Definition"
      ],
      "metadata": {
        "id": "-rDXX4nh71Zp"
      }
    },
    {
      "cell_type": "code",
      "source": [
        "class Attachment(Document):\n",
        "\n",
        "    def __init__(self, company_name, project_name, document_description, date, maverick, document_name, attachment_letter, file_path_original, file_path_modified, has_cover_page, attachment_center_header_top_margin_decrease):\n",
        "        super().__init__(company_name, project_name, document_description, date, maverick, document_name, file_path_original, file_path_modified)\n",
        "        self.attachment_letter = attachment_letter\n",
        "        self.has_cover_page = has_cover_page\n",
        "        self.attachment_name = f\"Attachment - {self.attachment_letter}\"\n",
        "        self.attachment_footer = f\"{self.attachment_letter} - \"\n",
        "        self.attachment_center_header_top_margin_decrease = attachment_center_header_top_margin_decrease\n",
        "\n",
        "    def header_range(self):\n",
        "        if self.has_cover_page:\n",
        "            return range(2, self.doc.page_count + 1)\n",
        "        else:\n",
        "            return range(1, self.doc.page_count + 1)\n",
        "\n",
        "    def save_pdf(self):\n",
        "        self.doc.save(self.file_path_modified)\n",
        "        print(f\"Header added. File saved as '{self.file_path_modified}'\")\n",
        "\n",
        "    def add_headers_and_footers(self):\n",
        "\n",
        "        # Get width and height of first page, which should be the same as all other pages\n",
        "        page_width = self.get_page_width()\n",
        "        page_height = self.get_page_height()\n",
        "\n",
        "        # Get length of text to be written on right side of the page\n",
        "        date_length = self.font.text_length(self.date, fontsize=Document.FONT_SIZE)\n",
        "        maverick_length = self.font.text_length(self.maverick, fontsize=Document.FONT_SIZE)\n",
        "        doc_name_length = self.font.text_length(self.document_name, fontsize=Document.FONT_SIZE)\n",
        "        attachment_name_length = self.font.text_length(self.attachment_name, fontsize=Document.FONT_SIZE)\n",
        "\n",
        "        # Loop through document pages and add headers\n",
        "        for i, page in enumerate(self.doc, start=1):\n",
        "            # Load Book Antiqua font file\n",
        "            page.insert_font(fontfile=Document.FONT_FILE, fontname=Document.FONT_NAME)\n",
        "\n",
        "            # Write headers to page\n",
        "            if i in self.header_range():\n",
        "                # Headers on left of page\n",
        "                page.insert_text((self.LEFT_MARGIN, self.TOP_MARGIN_1), self.company_name, fontsize=Document.FONT_SIZE, fontname=Document.FONT_NAME, color=Document.FONT_COLOR)\n",
        "                page.insert_text((self.LEFT_MARGIN, self.TOP_MARGIN_2), self.project_name, fontsize=Document.FONT_SIZE, fontname=Document.FONT_NAME, color=Document.FONT_COLOR)\n",
        "                page.insert_text((self.LEFT_MARGIN, self.TOP_MARGIN_3), self.document_description, fontsize=Document.FONT_SIZE, fontname=Document.FONT_NAME, color=Document.FONT_COLOR)\n",
        "                # Headers on right of page\n",
        "                page.insert_text((page_width - (self.LEFT_MARGIN + date_length), self.TOP_MARGIN_1), self.date, fontsize=Document.FONT_SIZE, fontname=Document.FONT_NAME, color=Document.FONT_COLOR)\n",
        "                page.insert_text((page_width - (self.LEFT_MARGIN + maverick_length), self.TOP_MARGIN_2), self.maverick, fontsize=Document.FONT_SIZE, fontname=Document.FONT_NAME, color=Document.FONT_COLOR)\n",
        "                page.insert_text((page_width - (self.LEFT_MARGIN + doc_name_length), self.TOP_MARGIN_3), self.document_name, fontsize=Document.FONT_SIZE, fontname=Document.FONT_NAME, color=Document.FONT_COLOR)\n",
        "                # Header on center of page (attachment name header)\n",
        "                page.insert_text(((page_width/2) - (attachment_name_length/2), self.TOP_MARGIN_1 - self.attachment_center_header_top_margin_decrease), self.attachment_name, fontsize=Document.FONT_SIZE, fontname=Document.FONT_NAME, color=Document.FONT_COLOR)\n",
        "                # Attachment footer\n",
        "                attachment_num = str((i + 1) - self.header_range()[0])\n",
        "                attachment_footer_length = self.font.text_length((self.attachment_footer + attachment_num), fontsize=Document.FONT_SIZE)\n",
        "                page.insert_text(((page_width/2) - (attachment_footer_length/2), (page_height - self.BOTTOM_MARGIN)), f'{self.attachment_footer}{(i + 1) -  self.header_range()[0]}', fontsize=Document.FONT_SIZE, fontname=Document.FONT_NAME, color=Document.FONT_COLOR)"
      ],
      "metadata": {
        "id": "8q-10TTeUf7E"
      },
      "execution_count": 7,
      "outputs": []
    },
    {
      "cell_type": "markdown",
      "source": [
        "# Report Instance\n",
        "\n",
        "Creating a report instance and performing operations."
      ],
      "metadata": {
        "id": "cYr-vRml7Usc"
      }
    },
    {
      "cell_type": "code",
      "source": [
        "report = Report(\n",
        "    company_name=company_name,\n",
        "    project_name=project_name,\n",
        "    document_description=document_description,\n",
        "    date=date,\n",
        "    maverick=maverick,\n",
        "    document_name=document_name,\n",
        "    footer_roman_start=footer_roman_start,\n",
        "    footer_roman_finish=footer_roman_finish,\n",
        "    file_path_original=file_path_original_report,\n",
        "    file_path_modified=file_path_modified_report\n",
        ")"
      ],
      "metadata": {
        "id": "nSAQIii3LFar"
      },
      "execution_count": 8,
      "outputs": []
    },
    {
      "cell_type": "code",
      "source": [
        "report.add_headers_and_footers()\n",
        "report.save_pdf()"
      ],
      "metadata": {
        "colab": {
          "base_uri": "https://localhost:8080/"
        },
        "id": "SG1PCLSJM2h8",
        "outputId": "8e83d9f3-bc0e-4a17-c3d7-91a92bf079c9"
      },
      "execution_count": 9,
      "outputs": [
        {
          "output_type": "stream",
          "name": "stdout",
          "text": [
            "Header added. File saved as '/content/drive/MyDrive/PDF Headers/PDF w Headers/TEST MAS-233266-FPC-1016-501_R1 REPORT ONLY.pdf'\n"
          ]
        }
      ]
    },
    {
      "cell_type": "markdown",
      "source": [
        "# Attachment - A Instance\n",
        "\n",
        "Creating Attachment - A instance and performing operations."
      ],
      "metadata": {
        "id": "-763HM_W8RLA"
      }
    },
    {
      "cell_type": "code",
      "source": [
        "attachment_a = Attachment(\n",
        "    company_name=company_name,\n",
        "    project_name=project_name,\n",
        "    document_description=document_description,\n",
        "    date=date,\n",
        "    maverick=maverick,\n",
        "    document_name=document_name,\n",
        "    attachment_letter=attachment_letter_a,\n",
        "    file_path_original=file_path_original_attachment_a,\n",
        "    file_path_modified=file_path_modified_attachment_a,\n",
        "    has_cover_page=has_cover_page_a,\n",
        "    attachment_center_header_top_margin_decrease=attachment_center_header_top_margin_decrease\n",
        ")"
      ],
      "metadata": {
        "id": "7KY_zuz1l3j9"
      },
      "execution_count": 10,
      "outputs": []
    },
    {
      "cell_type": "code",
      "source": [
        "attachment_a.add_headers_and_footers()\n",
        "attachment_a.save_pdf()"
      ],
      "metadata": {
        "colab": {
          "base_uri": "https://localhost:8080/"
        },
        "id": "Dc4eiQbwnK7u",
        "outputId": "1d2a024c-9023-4d31-ef32-7ee29f55397a"
      },
      "execution_count": 11,
      "outputs": [
        {
          "output_type": "stream",
          "name": "stdout",
          "text": [
            "Header added. File saved as '/content/drive/MyDrive/PDF Headers/PDF w Headers/TEST 3266 Attachment A.pdf'\n"
          ]
        }
      ]
    },
    {
      "cell_type": "markdown",
      "source": [
        "# Attachment - B Instance\n",
        "\n",
        "Creating Attachment - B instance and performing operations."
      ],
      "metadata": {
        "id": "wZE7u0aS8qBs"
      }
    },
    {
      "cell_type": "code",
      "source": [
        "attachment_b = Attachment(\n",
        "    company_name=company_name,\n",
        "    project_name=project_name,\n",
        "    document_description=document_description,\n",
        "    date=date,\n",
        "    maverick=maverick,\n",
        "    document_name=document_name,\n",
        "    attachment_letter=attachment_letter_b,\n",
        "    file_path_original=file_path_original_attachment_b,\n",
        "    file_path_modified=file_path_modified_attachment_b,\n",
        "    has_cover_page=has_cover_page_b,\n",
        "    attachment_center_header_top_margin_decrease=attachment_center_header_top_margin_decrease\n",
        ")"
      ],
      "metadata": {
        "id": "1k8kHNya3Vj4"
      },
      "execution_count": 12,
      "outputs": []
    },
    {
      "cell_type": "code",
      "source": [
        "attachment_b.add_headers_and_footers()\n",
        "attachment_b.save_pdf()"
      ],
      "metadata": {
        "colab": {
          "base_uri": "https://localhost:8080/"
        },
        "id": "PF3_M-5o3ckV",
        "outputId": "ce19be2b-6480-4e04-e982-ce89e42a7228"
      },
      "execution_count": 13,
      "outputs": [
        {
          "output_type": "stream",
          "name": "stdout",
          "text": [
            "Header added. File saved as '/content/drive/MyDrive/PDF Headers/PDF w Headers/TEST 3266 Attachment B.pdf'\n"
          ]
        }
      ]
    },
    {
      "cell_type": "markdown",
      "source": [
        "# Attachment - D Instance\n",
        "\n",
        "Creating Attachment - D instance and performing operations."
      ],
      "metadata": {
        "id": "n73Unwsv82HU"
      }
    },
    {
      "cell_type": "code",
      "source": [
        "attachment_d = Attachment(\n",
        "    company_name=company_name,\n",
        "    project_name=project_name,\n",
        "    document_description=document_description,\n",
        "    date=date,\n",
        "    maverick=maverick,\n",
        "    document_name=document_name,\n",
        "    attachment_letter=attachment_letter_d,\n",
        "    file_path_original=file_path_original_attachment_d,\n",
        "    file_path_modified=file_path_modified_attachment_d,\n",
        "    has_cover_page=has_cover_page_d,\n",
        "    attachment_center_header_top_margin_decrease=attachment_center_header_top_margin_decrease\n",
        ")"
      ],
      "metadata": {
        "id": "hK1sHiwp3w_e"
      },
      "execution_count": 14,
      "outputs": []
    },
    {
      "cell_type": "code",
      "source": [
        "attachment_d.add_headers_and_footers()\n",
        "attachment_d.save_pdf()"
      ],
      "metadata": {
        "colab": {
          "base_uri": "https://localhost:8080/"
        },
        "id": "Zj9Lu5on30w9",
        "outputId": "51f5b6b2-a483-4f8a-ef6c-6183677e636c"
      },
      "execution_count": 15,
      "outputs": [
        {
          "output_type": "stream",
          "name": "stdout",
          "text": [
            "Header added. File saved as '/content/drive/MyDrive/PDF Headers/PDF w Headers/MAS-233266-FPC-1016-002-Attachment_D.pdf'\n"
          ]
        }
      ]
    },
    {
      "cell_type": "markdown",
      "source": [
        "# Attachment - E Instance\n",
        "\n",
        "Creating Attachment - E instance and performing operations."
      ],
      "metadata": {
        "id": "nJmfc-KF9IQI"
      }
    },
    {
      "cell_type": "code",
      "source": [
        "attachment_e = Attachment(\n",
        "    company_name=company_name,\n",
        "    project_name=project_name,\n",
        "    document_description=document_description,\n",
        "    date=date,\n",
        "    maverick=maverick,\n",
        "    document_name=document_name,\n",
        "    attachment_letter=attachment_letter_e,\n",
        "    file_path_original=file_path_original_attachment_e,\n",
        "    file_path_modified=file_path_modified_attachment_e,\n",
        "    has_cover_page=has_cover_page_e,\n",
        "    attachment_center_header_top_margin_decrease=attachment_center_header_top_margin_decrease\n",
        ")"
      ],
      "metadata": {
        "id": "mVy5_km44Iqq"
      },
      "execution_count": 16,
      "outputs": []
    },
    {
      "cell_type": "code",
      "source": [
        "attachment_e.add_headers_and_footers()\n",
        "attachment_e.save_pdf()"
      ],
      "metadata": {
        "colab": {
          "base_uri": "https://localhost:8080/"
        },
        "id": "QTaksFC74Mvj",
        "outputId": "4e7f4eb6-5a96-4462-820c-9fa05f1c8544"
      },
      "execution_count": 17,
      "outputs": [
        {
          "output_type": "stream",
          "name": "stdout",
          "text": [
            "Header added. File saved as '/content/drive/MyDrive/PDF Headers/PDF w Headers/MAS-233266-FPC-1016-003-Attachment_E.pdf'\n"
          ]
        }
      ]
    },
    {
      "cell_type": "markdown",
      "source": [
        "# Attachment - F Instance\n",
        "\n",
        "Creating Attachment - F instance and performing operations."
      ],
      "metadata": {
        "id": "6Az6qO239W2x"
      }
    },
    {
      "cell_type": "code",
      "source": [
        "attachment_f = Attachment(\n",
        "    company_name=company_name,\n",
        "    project_name=project_name,\n",
        "    document_description=document_description,\n",
        "    date=date,\n",
        "    maverick=maverick,\n",
        "    document_name=document_name,\n",
        "    attachment_letter=attachment_letter_f,\n",
        "    file_path_original=file_path_original_attachment_f,\n",
        "    file_path_modified=file_path_modified_attachment_f,\n",
        "    has_cover_page=has_cover_page_f,\n",
        "    attachment_center_header_top_margin_decrease=attachment_center_header_top_margin_decrease\n",
        ")"
      ],
      "metadata": {
        "id": "icvhBlvL4P7h"
      },
      "execution_count": 18,
      "outputs": []
    },
    {
      "cell_type": "code",
      "source": [
        "attachment_f.add_headers_and_footers()\n",
        "attachment_f.save_pdf()"
      ],
      "metadata": {
        "colab": {
          "base_uri": "https://localhost:8080/"
        },
        "id": "JEykXL0D4VAB",
        "outputId": "bee4f1dc-2d00-48d9-bdcd-f64e7f639b73"
      },
      "execution_count": 19,
      "outputs": [
        {
          "output_type": "stream",
          "name": "stdout",
          "text": [
            "Header added. File saved as '/content/drive/MyDrive/PDF Headers/PDF w Headers/MAS-233266-FPC-1016-004-Attachment_F.pdf'\n"
          ]
        }
      ]
    },
    {
      "cell_type": "markdown",
      "source": [
        "# Attachment - G Instance\n",
        "\n",
        "Creating Attachment - G instance and performing operations."
      ],
      "metadata": {
        "id": "Q0M7FvID9n8C"
      }
    },
    {
      "cell_type": "code",
      "source": [
        "attachment_g = Attachment(\n",
        "    company_name=company_name,\n",
        "    project_name=project_name,\n",
        "    document_description=document_description,\n",
        "    date=date,\n",
        "    maverick=maverick,\n",
        "    document_name=document_name,\n",
        "    attachment_letter=attachment_letter_g,\n",
        "    file_path_original=file_path_original_attachment_g,\n",
        "    file_path_modified=file_path_modified_attachment_g,\n",
        "    has_cover_page=has_cover_page_g,\n",
        "    attachment_center_header_top_margin_decrease=attachment_center_header_top_margin_decrease\n",
        ")"
      ],
      "metadata": {
        "id": "SVAiAB8p4Wsc"
      },
      "execution_count": 20,
      "outputs": []
    },
    {
      "cell_type": "code",
      "source": [
        "attachment_g.add_headers_and_footers()\n",
        "attachment_g.save_pdf()"
      ],
      "metadata": {
        "colab": {
          "base_uri": "https://localhost:8080/"
        },
        "id": "KkBPJFYK4b8C",
        "outputId": "6b72672e-b9c6-46b6-8745-5fa569634a0f"
      },
      "execution_count": 21,
      "outputs": [
        {
          "output_type": "stream",
          "name": "stdout",
          "text": [
            "Header added. File saved as '/content/drive/MyDrive/PDF Headers/PDF w Headers/MAS-233266-FPC-1016-005-Attachment_G.pdf'\n"
          ]
        }
      ]
    }
  ]
}